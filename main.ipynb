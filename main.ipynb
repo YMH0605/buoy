{
 "cells": [
  {
   "cell_type": "code",
   "execution_count": 1,
   "id": "2c4842c1",
   "metadata": {},
   "outputs": [
    {
     "name": "stderr",
     "output_type": "stream",
     "text": [
      "Seed set to 42\n"
     ]
    },
    {
     "name": "stdout",
     "output_type": "stream",
     "text": [
      "making new app\n"
     ]
    }
   ],
   "source": [
    "from data_processing import *"
   ]
  },
  {
   "cell_type": "code",
   "execution_count": 4,
   "id": "ac402370",
   "metadata": {},
   "outputs": [
    {
     "data": {
      "text/plain": [
       "<All keys matched successfully>"
      ]
     },
     "execution_count": 4,
     "metadata": {},
     "output_type": "execute_result"
    }
   ],
   "source": [
    "filepath = 'lstm_on_bouy.pth'\n",
    "input_size = 3 # number of features\n",
    "hidden_size = 64 # number of features in hidden state\n",
    "num_layers = 3 # number of stacked lstm layers\n",
    "num_classes = 2\n",
    "lstm = LSTM(num_classes, input_size, hidden_size, num_layers).to(device)\n",
    "lstm.load_state_dict(torch.load(filepath, map_location=device))"
   ]
  },
  {
   "cell_type": "code",
   "execution_count": 6,
   "id": "83169088",
   "metadata": {},
   "outputs": [],
   "source": [
    "def Predict(pond_id, n_ahead):\n",
    "    \"\"\"\n",
    "    修改后的预测函数，适用于每10分钟采样的24小时连续数据\n",
    "    \n",
    "    Args:\n",
    "        pond_id: 池塘ID\n",
    "        n_ahead: 预测未来多少个时间步（每步10分钟）\n",
    "    \n",
    "    Returns:\n",
    "        dataX, do, future_predicts, train_size, val_size, mean, std\n",
    "    \"\"\"\n",
    "    # 获取数据\n",
    "    data = getData_5feature_tensor(pond_id)\n",
    "    future_predicts = []\n",
    "    _, _, _, _, _, _, dataX, dataY, train_size, val_size, mean, std = Load_Data(data)\n",
    "    do = data.iloc[:, :]\n",
    "\n",
    "    # 使用最后4个观测值作为初始序列\n",
    "    lastDay = do.tail(4) \n",
    "    last_hour_minute = lastDay['hour_minute'].iloc[-1]\n",
    "    hold = lastDay\n",
    "    lastDay = norimalize(lastDay, mean, std)\n",
    "    \n",
    "    # 获取最后的日期时间\n",
    "    last_date = data.index[-1]\n",
    "    last_date = pd.to_datetime(data.index[-1], format='%Y%m%d_%H:%M:%S')\n",
    "    \n",
    "    predicted_datetimes = []\n",
    "    cur_hour_minute = last_hour_minute\n",
    "\n",
    "    # 递归预测n_ahead步\n",
    "    for i in range(n_ahead):\n",
    "        # 计算下一个时间点（每10分钟增加）\n",
    "        next_time_minutes = (cur_hour_minute * 60 + 10) % (24 * 60)  # 转换为分钟，加10分钟，24小时循环\n",
    "        next_hour_minute = next_time_minutes / 60.0  # 转换回小时格式\n",
    "        \n",
    "        # 更新日期时间（每10分钟）\n",
    "        last_date = last_date + timedelta(minutes=10)\n",
    "        predicted_datetimes.append(last_date)\n",
    "        \n",
    "        cur_hour_minute = next_hour_minute\n",
    "\n",
    "        # 转换为张量进行预测\n",
    "        last_sequence = convert_tensor(lastDay)\n",
    "        \n",
    "        # 模型预测\n",
    "        lstm.eval()\n",
    "        with torch.no_grad():\n",
    "            future_predict = lstm(last_sequence)\n",
    "        \n",
    "        # 处理预测输出\n",
    "        future_predict = future_predict[0, :, :]  # 假设输出形状为 (1, seq_len, features)\n",
    "        future_predict = future_predict.detach().cpu().numpy()\n",
    "        \n",
    "        # 由于模型只输出2个特征（do, temp），但标准化时可能有3个特征\n",
    "        # 需要为第三个特征（hour_minute）添加值\n",
    "        if future_predict.shape[1] == 2:  # 如果模型只输出2个特征\n",
    "            # 添加hour_minute特征\n",
    "            hour_minute_column = np.full((future_predict.shape[0], 1), next_hour_minute)\n",
    "            future_predict = np.concatenate((future_predict, hour_minute_column), axis=1)\n",
    "        \n",
    "        # 反标准化\n",
    "        future_predict_de = denormalize(future_predict, mean, std)\n",
    "        \n",
    "        # 确保hour_minute特征正确\n",
    "        future_predict_de[:, 2] = next_hour_minute  # 第三列是hour_minute\n",
    "        \n",
    "        future_predicts.append(future_predict_de)\n",
    "\n",
    "        # 重新标准化用于下一次预测\n",
    "        future_predict_de_norm = norimalize(future_predict_de, mean, std)\n",
    "        \n",
    "        # 更新序列：移除最旧的观测，添加新预测\n",
    "        lastDay = np.append(lastDay, future_predict_de_norm, axis=0)\n",
    "        lastDay = lastDay[1:, :]  # 移除第一行，保持序列长度为4\n",
    "\n",
    "    future_predicts = np.array(future_predicts)\n",
    "    \n",
    "    return dataX, do, future_predicts, train_size, val_size, mean, std"
   ]
  },
  {
   "cell_type": "code",
   "execution_count": 7,
   "id": "f6ce9489",
   "metadata": {},
   "outputs": [
    {
     "data": {
      "text/plain": [
       "array([[[16.58543243, 32.55634295, 18.31666667]],\n",
       "\n",
       "       [[16.24583733, 32.44251152, 18.48333333]],\n",
       "\n",
       "       [[16.02803298, 32.36708425, 18.65      ]],\n",
       "\n",
       "       [[15.83529017, 32.29930953, 18.81666667]],\n",
       "\n",
       "       [[15.69300579, 32.24686311, 18.98333333]],\n",
       "\n",
       "       [[15.58182483, 32.20530929, 19.15      ]]])"
      ]
     },
     "execution_count": 7,
     "metadata": {},
     "output_type": "execute_result"
    }
   ],
   "source": [
    "dataX, do, future_predicts, train_size, val_size, mean, std = Predict(1,6)\n",
    "future_predicts"
   ]
  },
  {
   "cell_type": "code",
   "execution_count": null,
   "id": "90002627",
   "metadata": {},
   "outputs": [],
   "source": []
  }
 ],
 "metadata": {
  "kernelspec": {
   "display_name": "Python 3",
   "language": "python",
   "name": "python3"
  },
  "language_info": {
   "codemirror_mode": {
    "name": "ipython",
    "version": 3
   },
   "file_extension": ".py",
   "mimetype": "text/x-python",
   "name": "python",
   "nbconvert_exporter": "python",
   "pygments_lexer": "ipython3",
   "version": "3.9.9"
  }
 },
 "nbformat": 4,
 "nbformat_minor": 5
}
